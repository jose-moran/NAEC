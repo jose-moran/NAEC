{
 "cells": [
  {
   "cell_type": "code",
   "execution_count": null,
   "metadata": {},
   "outputs": [],
   "source": [
    "import numpy as np \n",
    "import matplotlib.pyplot as plt \n",
    "%matplotlib inline"
   ]
  },
  {
   "cell_type": "code",
   "execution_count": null,
   "metadata": {},
   "outputs": [],
   "source": [
    "class Strategy:\n",
    "    def __init__(self):\n",
    "        self.score = 0 # Strategy's initial score\n",
    "        self.Responses = {} # Records the reponse to each state\n",
    "                \n",
    "        \n",
    "    def act(self, state): # act according to the current state \n",
    "        if not state in self.Responses:\n",
    "            self.Responses[state] = np.random.choice([-1,1])\n",
    "        return self.Responses[state]\n",
    "    \n",
    "    \n",
    "    def update_score(self, v = 1):\n",
    "        self.score += v #update the score"
   ]
  },
  {
   "cell_type": "code",
   "execution_count": null,
   "metadata": {},
   "outputs": [],
   "source": [
    "class Agent:\n",
    "    def __init__(self, s = 2):\n",
    "        self.s = s #number of strategies\n",
    "        self.Strategies = [Strategy() for i in range(s)]\n",
    "        self.score = 0 #total number of wins\n",
    "        self.state = None\n",
    "        self.action = None\n",
    "        \n",
    "    def act(self, state):\n",
    "        self.state = state\n",
    "        best_strategy = max(self.Strategies, key = lambda x:x.score)\n",
    "        self.action = best_strategy.act(state)\n",
    "        \n",
    "    def update(self, winning_choice):\n",
    "        for strategy in self.Strategies:\n",
    "            if strategy.act(self.state) == winning_choice:\n",
    "                strategy.update_score(1)\n",
    "            else:\n",
    "                strategy.update_score(-1)\n",
    "        \n",
    "        if self.action == winning_choice:\n",
    "            self.score += 1\n",
    "        else:\n",
    "            self.score += -1 "
   ]
  },
  {
   "cell_type": "code",
   "execution_count": null,
   "metadata": {},
   "outputs": [],
   "source": [
    "class Simulation:\n",
    "    \n",
    "    def __init__(self, N, M, s):\n",
    "        self.N = N\n",
    "        self.M = M\n",
    "        initial_outcome = np.random.choice(['0','1'], size = M)\n",
    "        self.Outcomes = ''\n",
    "        for i in initial_outcome:\n",
    "            self.Outcomes += i\n",
    "        self.Agents = [Agent(s) for i in range(N)]\n",
    "        self.global_outcome = 0\n",
    "        self.winning_action = 0\n",
    "        \n",
    "    def get_state(self):\n",
    "        return self.Outcomes[-self.M:]\n",
    "    \n",
    "    def winning_action_to_string(self):\n",
    "        return str(int(self.winning_action == 1))\n",
    "        \n",
    "    def update(self):\n",
    "        #Make agents act on current state\n",
    "        state = self.get_state()\n",
    "        for agent in self.Agents:\n",
    "            agent.act(state)\n",
    "        #find out which action was picked by the majority\n",
    "        actions = np.array([agent.action for agent in self.Agents])\n",
    "        self.global_outcome = np.sum(actions)\n",
    "        self.winning_action = - np.sign(self.global_outcome)\n",
    "        \n",
    "        #append this to list of winning actions\n",
    "        waction_string = self.winning_action_to_string()\n",
    "        self.Outcomes += waction_string\n",
    "        #agents update their strategies\n",
    "        for agent in self.Agents:\n",
    "            agent.update(self.winning_action)"
   ]
  },
  {
   "cell_type": "code",
   "execution_count": null,
   "metadata": {},
   "outputs": [],
   "source": [
    "def critical_M(N):\n",
    "    return np.log(N * 0.34) / np.log(2)"
   ]
  },
  {
   "cell_type": "code",
   "execution_count": null,
   "metadata": {},
   "outputs": [],
   "source": [
    "critical_M(101)"
   ]
  },
  {
   "cell_type": "code",
   "execution_count": null,
   "metadata": {},
   "outputs": [],
   "source": [
    "Simulation1 = Simulation(N = 101, M = 3, s = 2)\n",
    "Simulation2 = Simulation(N = 101, M = 6, s = 2)"
   ]
  },
  {
   "cell_type": "code",
   "execution_count": null,
   "metadata": {},
   "outputs": [],
   "source": [
    "def run_simulation(sim, T):\n",
    "    agent_scores = np.empty((sim.N, T))\n",
    "    global_outcomes = np.empty(T)\n",
    "    for i in range(T):\n",
    "        sim.update()\n",
    "        global_outcomes[i] = sim.global_outcome\n",
    "        agent_scores[:,i] = [agent.score for agent in sim.Agents]\n",
    "    return global_outcomes, agent_scores"
   ]
  },
  {
   "cell_type": "code",
   "execution_count": null,
   "metadata": {},
   "outputs": [],
   "source": [
    "outcomes1, agents1 = run_simulation(Simulation1, 500)"
   ]
  },
  {
   "cell_type": "code",
   "execution_count": null,
   "metadata": {},
   "outputs": [],
   "source": [
    "plt.plot(outcomes1)"
   ]
  },
  {
   "cell_type": "code",
   "execution_count": null,
   "metadata": {},
   "outputs": [],
   "source": [
    "random_agents = np.random.choice(81, size = 15)\n",
    "plt.figure()\n",
    "for i in random_agents:\n",
    "    plt.plot(agents1[i,:])"
   ]
  },
  {
   "cell_type": "code",
   "execution_count": null,
   "metadata": {},
   "outputs": [],
   "source": [
    "outcomes2, agents2 = run_simulation(Simulation2, 2000)"
   ]
  },
  {
   "cell_type": "code",
   "execution_count": null,
   "metadata": {},
   "outputs": [],
   "source": [
    "plt.figure()\n",
    "\n",
    "plt.plot(outcomes2)\n",
    "plt.xlim(0,500)"
   ]
  },
  {
   "cell_type": "code",
   "execution_count": null,
   "metadata": {},
   "outputs": [],
   "source": [
    "random_agents = np.random.choice(81, size = 15)\n",
    "plt.figure()\n",
    "for i in random_agents:\n",
    "    plt.plot(agents2[i,:])\n"
   ]
  }
 ],
 "metadata": {
  "kernelspec": {
   "display_name": "Python 3",
   "language": "python",
   "name": "python3"
  },
  "language_info": {
   "codemirror_mode": {
    "name": "ipython",
    "version": 3
   },
   "file_extension": ".py",
   "mimetype": "text/x-python",
   "name": "python",
   "nbconvert_exporter": "python",
   "pygments_lexer": "ipython3",
   "version": "3.7.5"
  }
 },
 "nbformat": 4,
 "nbformat_minor": 4
}
