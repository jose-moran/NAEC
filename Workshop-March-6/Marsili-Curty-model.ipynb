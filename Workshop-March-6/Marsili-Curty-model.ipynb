{
 "cells": [
  {
   "cell_type": "code",
   "execution_count": null,
   "metadata": {},
   "outputs": [],
   "source": [
    "import numpy as np \n",
    "import matplotlib.pyplot as plt\n",
    "from scipy.special import binom\n",
    "from tqdm import tqdm_notebook as tqdm\n",
    "%matplotlib inline"
   ]
  },
  {
   "cell_type": "markdown",
   "metadata": {},
   "source": [
    "## NAEC Workshop\n",
    "### José Moran, Michael Benzaquen\n",
    "\n",
    "The model is defined as follows:\n",
    "* There are N agents in total, each of which makes a choice $S_i=\\pm1$ with the positive choice corresponding to \"the right choice\".\n",
    "* A fraction $z$, or an amount $N_i= \\lfloor z\\cdot N\\rfloor$ among them are informed, and make their mind based on a model that works better than randomness, so they pick $S_i = +1$ with a probability $p>1/2$.\n",
    "* The followers, making up a fraction $1-z$ corresponding to $N_f$ individuals, make their mind at first purely randomly, and then follow this algorithm:\n",
    "\n",
    "    1. Agent $i$ polls a group $g$ of $m$ individuals, informed or not.\n",
    "    2. Agent $i$ picks the choice of the majority, setting $$ S_i = \\mbox{Sign}\\left(\\sum_{k\\in g}S_k\\right)$$\n",
    "    \n",
    "    \n",
    "We model this with an array $S_i$ where $0\\leq i < N_i$ corresponds to the informed agents, while $N_i\\leq i<N$ corresponds to followers.\n",
    "\n",
    "\n",
    "We then focus on $q_t$, the probability that a **follower** has made the right choice at time $t$, and $\\pi_t$, the probability that **any individual** has made the right choice at time $t$.\n",
    "\n",
    "Therefore,\n",
    "$$q_t = \\frac{1}{N_f}\\sum_{i\\in \\text{fol.}} (S_i>0)$$\n",
    "$$\\pi_t = \\frac{1}{N}\\sum_{0\\leq i <N} (S_i>0)$$"
   ]
  },
  {
   "cell_type": "code",
   "execution_count": null,
   "metadata": {},
   "outputs": [],
   "source": [
    "class MarsiliCurty(object):\n",
    "    \n",
    "    def __init__(self, N, z, p, m):\n",
    "        #set the parameters\n",
    "        self.N_i = int(N * z)\n",
    "        self.N_f = N - self.N_i\n",
    "        self.N = N\n",
    "        self.p = p\n",
    "        self.m = m\n",
    "        #define the array of choices\n",
    "        self.S = np.empty(N)\n",
    "        #pick the initial choices for informed and non-informed agents\n",
    "        self.S[:self.N_i] = np.random.choice([-1,1],\n",
    "                                                      p = [1-p,p],\n",
    "                                                      size = self.N_i)\n",
    "        self.S[self.N_i:] = np.random.choice([-1,1],\n",
    "                                                   p = [0.5, 0.5],\n",
    "                                                  size = self.N_f)\n",
    "    \n",
    "\n",
    "    def compute_q(self):\n",
    "        followers = self.S[self.N_i:]\n",
    "        return np.mean(followers > 0)\n",
    "    \n",
    "    def compute_pi(self):\n",
    "        return np.mean(self.S > 0)\n",
    "    \n",
    "    def compute_informed(self):\n",
    "        informed = self.S[:self.N_i]\n",
    "        return np.mean(informed > 0)\n",
    "            \n",
    "    def time_step(self):\n",
    "        #pick a random follower, i.e. pick \n",
    "        #i in [N_i,N_i+1,...,N]\n",
    "        random_follower = np.random.randint(low = self.N_i, high = self.N)\n",
    "        #pick a group of m individuals you want to poll\n",
    "        group = np.random.choice(self.N, size = self.m)\n",
    "        #get the choices of the group\n",
    "        group_choices = self.S[group]\n",
    "        #align your choice with that of the majority\n",
    "        avg_group_choice = np.mean(group_choices)\n",
    "        self.S[random_follower] = np.sign(avg_group_choice)\n",
    "        \n",
    "        \n",
    "    def iterate(self,T):\n",
    "        #run a simulation during T timesteps\n",
    "        #returns the evolution of q and pi \n",
    "        q = np.empty(T)\n",
    "        pi = np.empty(T)\n",
    "        for t in range(T):\n",
    "            q[t] = self.compute_q()\n",
    "            pi[t] = self.compute_pi()\n",
    "            self.time_step()\n",
    "        return q, pi "
   ]
  },
  {
   "cell_type": "markdown",
   "metadata": {},
   "source": [
    "We first check our code, and see how its initial values are set:"
   ]
  },
  {
   "cell_type": "code",
   "execution_count": null,
   "metadata": {},
   "outputs": [],
   "source": [
    "N = 300\n",
    "z = 0.3\n",
    "p = 0.52\n",
    "m = 12\n",
    "\n",
    "MC = MarsiliCurty(N, z, p, m)\n",
    "print(\"Checking initial values:\")\n",
    "print(f\"Chosen value of p={p}\")\n",
    "print(f\"Fraction of people who are right: pi={MC.compute_pi()}\")\n",
    "print(f\"Fraction of followers who are right: q={MC.compute_q()}\")\n",
    "print(f\"Fraction of informed agents who are right: q={MC.compute_informed()}\")"
   ]
  },
  {
   "cell_type": "markdown",
   "metadata": {},
   "source": [
    "We now run a simulation with these values, during $T=4000$ timesteps."
   ]
  },
  {
   "cell_type": "code",
   "execution_count": null,
   "metadata": {},
   "outputs": [],
   "source": [
    "%time q, pi = MC.iterate(4000)"
   ]
  },
  {
   "cell_type": "code",
   "execution_count": null,
   "metadata": {},
   "outputs": [],
   "source": [
    "plt.figure(figsize = (8,8))\n",
    "plt.plot(q, label='$q$')\n",
    "plt.plot(pi, label=r'$\\pi$')\n",
    "plt.legend(fontsize = 15)\n",
    "plt.xlabel('t')"
   ]
  },
  {
   "cell_type": "markdown",
   "metadata": {},
   "source": [
    "We therefore define the average value of $q$ as the value observed during the $1000$ last time-steps of the simulation. \n",
    "We will plot this against $z$ for fixed values of $z$,$p$ and $m$."
   ]
  },
  {
   "cell_type": "code",
   "execution_count": null,
   "metadata": {},
   "outputs": [],
   "source": [
    "def get_q(z, p=0.52, m=11):\n",
    "    #create an instance of the simulation\n",
    "    MC = MarsiliCurty(N, z, p, m)\n",
    "    #run the simulation and return the average of the 1000 last values\n",
    "    q, pi = MC.iterate(4000)\n",
    "    return np.mean(q[:-100])"
   ]
  },
  {
   "cell_type": "code",
   "execution_count": null,
   "metadata": {},
   "outputs": [],
   "source": [
    "zs = np.linspace(0,1,50, endpoint=False)\n",
    "qs = np.array([get_q(z) for z in tqdm(zs)])"
   ]
  },
  {
   "cell_type": "code",
   "execution_count": null,
   "metadata": {},
   "outputs": [],
   "source": [
    "plt.figure(figsize=(10,10))\n",
    "plt.scatter(zs,qs, label='Simulation results')\n",
    "plt.xlabel(r'$z$', fontsize = 22)\n",
    "plt.ylabel(r'$q$', fontsize = 22)\n"
   ]
  },
  {
   "cell_type": "markdown",
   "metadata": {},
   "source": [
    "It's actually possible to understand this analytically..."
   ]
  },
  {
   "cell_type": "code",
   "execution_count": null,
   "metadata": {},
   "outputs": [],
   "source": [
    "import scipy.optimize as opt"
   ]
  },
  {
   "cell_type": "code",
   "execution_count": null,
   "metadata": {},
   "outputs": [],
   "source": [
    "def fixed_point(z,p,m, n_its = 200):\n",
    "    def F_z(q):\n",
    "        pi = z * p + (1-z)*q\n",
    "        F_z = np.sum([binom(m, l)* pi**l * (1-pi) ** (m-l) for l in range((m+1)//2, m+1)])\n",
    "        return F_z\n",
    "    \n",
    "    q_0 = 0 \n",
    "    q_1 = 1\n",
    "    q_mid = 0.5\n",
    "    for i in range(n_its):\n",
    "        q_0 = F_z(q_0)\n",
    "        q_1 = F_z(q_1)\n",
    "    q_mid = opt.brentq(lambda q: F_z(q)-q, q_0+0.1, q_1-0.1)\n",
    "    return q_0, q_1, q_mid"
   ]
  },
  {
   "cell_type": "code",
   "execution_count": null,
   "metadata": {},
   "outputs": [],
   "source": [
    "lower = np.empty(len(zs))\n",
    "upper = np.empty(len(zs))\n",
    "mid = np.empty(len(zs))\n",
    "\n",
    "for i in tqdm(range(len(zs))):\n",
    "    lower[i], upper[i], mid[i] = fixed_point(zs[i], p =0.5001, m =10)"
   ]
  },
  {
   "cell_type": "code",
   "execution_count": null,
   "metadata": {},
   "outputs": [],
   "source": [
    "plt.figure(figsize=(10,10))\n",
    "plt.plot(zs, lower, color='red', label='Analytical lower branch')\n",
    "plt.plot(zs, upper, label='Analytical upper branch')\n",
    "plt.plot(zs, mid, '--', label='Analytical mid branch', color='black')\n",
    "\n",
    "plt.scatter(zs,qs, label='Simulation results')\n",
    "plt.xlabel(r'$z$', fontsize = 22)\n",
    "plt.ylabel(r'$q$', fontsize = 22)\n",
    "plt.legend()"
   ]
  }
 ],
 "metadata": {
  "kernelspec": {
   "display_name": "Python 3",
   "language": "python",
   "name": "python3"
  },
  "language_info": {
   "codemirror_mode": {
    "name": "ipython",
    "version": 3
   },
   "file_extension": ".py",
   "mimetype": "text/x-python",
   "name": "python",
   "nbconvert_exporter": "python",
   "pygments_lexer": "ipython3",
   "version": "3.7.5"
  }
 },
 "nbformat": 4,
 "nbformat_minor": 4
}
