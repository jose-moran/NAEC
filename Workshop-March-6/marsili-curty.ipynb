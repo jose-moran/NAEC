{
  "nbformat": 4,
  "nbformat_minor": 0,
  "metadata": {
    "colab": {
      "name": "Untitled0.ipynb",
      "provenance": [],
      "collapsed_sections": []
    },
    "kernelspec": {
      "name": "python3",
      "display_name": "Python 3"
    },
    "widgets": {
      "application/vnd.jupyter.widget-state+json": {
        "e5aa3022280348f19fb6297d35d7689a": {
          "model_module": "@jupyter-widgets/controls",
          "model_name": "HBoxModel",
          "state": {
            "_view_name": "HBoxView",
            "_dom_classes": [],
            "_model_name": "HBoxModel",
            "_view_module": "@jupyter-widgets/controls",
            "_model_module_version": "1.5.0",
            "_view_count": null,
            "_view_module_version": "1.5.0",
            "box_style": "",
            "layout": "IPY_MODEL_000391b79a0e44768c9d8e5f39d5f760",
            "_model_module": "@jupyter-widgets/controls",
            "children": [
              "IPY_MODEL_44c1a5d361674c0387e62e29fd8db36f",
              "IPY_MODEL_bffeb23dcfbb4fc88dcb0434497bb8ad"
            ]
          }
        },
        "000391b79a0e44768c9d8e5f39d5f760": {
          "model_module": "@jupyter-widgets/base",
          "model_name": "LayoutModel",
          "state": {
            "_view_name": "LayoutView",
            "grid_template_rows": null,
            "right": null,
            "justify_content": null,
            "_view_module": "@jupyter-widgets/base",
            "overflow": null,
            "_model_module_version": "1.2.0",
            "_view_count": null,
            "flex_flow": null,
            "width": null,
            "min_width": null,
            "border": null,
            "align_items": null,
            "bottom": null,
            "_model_module": "@jupyter-widgets/base",
            "top": null,
            "grid_column": null,
            "overflow_y": null,
            "overflow_x": null,
            "grid_auto_flow": null,
            "grid_area": null,
            "grid_template_columns": null,
            "flex": null,
            "_model_name": "LayoutModel",
            "justify_items": null,
            "grid_row": null,
            "max_height": null,
            "align_content": null,
            "visibility": null,
            "align_self": null,
            "height": null,
            "min_height": null,
            "padding": null,
            "grid_auto_rows": null,
            "grid_gap": null,
            "max_width": null,
            "order": null,
            "_view_module_version": "1.2.0",
            "grid_template_areas": null,
            "object_position": null,
            "object_fit": null,
            "grid_auto_columns": null,
            "margin": null,
            "display": null,
            "left": null
          }
        },
        "44c1a5d361674c0387e62e29fd8db36f": {
          "model_module": "@jupyter-widgets/controls",
          "model_name": "IntProgressModel",
          "state": {
            "_view_name": "ProgressView",
            "style": "IPY_MODEL_a7350dd33a5a46f098e5c95523be17ee",
            "_dom_classes": [],
            "description": "",
            "_model_name": "IntProgressModel",
            "bar_style": "success",
            "max": 100,
            "_view_module": "@jupyter-widgets/controls",
            "_model_module_version": "1.5.0",
            "value": 100,
            "_view_count": null,
            "_view_module_version": "1.5.0",
            "orientation": "horizontal",
            "min": 0,
            "description_tooltip": null,
            "_model_module": "@jupyter-widgets/controls",
            "layout": "IPY_MODEL_947a96d9c91f4bd6b4da7be85e8b984b"
          }
        },
        "bffeb23dcfbb4fc88dcb0434497bb8ad": {
          "model_module": "@jupyter-widgets/controls",
          "model_name": "HTMLModel",
          "state": {
            "_view_name": "HTMLView",
            "style": "IPY_MODEL_9beff2ff2cce4da680eabed516c76371",
            "_dom_classes": [],
            "description": "",
            "_model_name": "HTMLModel",
            "placeholder": "​",
            "_view_module": "@jupyter-widgets/controls",
            "_model_module_version": "1.5.0",
            "value": "100% 100/100 [00:41&lt;00:00,  2.13it/s]",
            "_view_count": null,
            "_view_module_version": "1.5.0",
            "description_tooltip": null,
            "_model_module": "@jupyter-widgets/controls",
            "layout": "IPY_MODEL_49ebf97804d14a0492124aa94767772c"
          }
        },
        "a7350dd33a5a46f098e5c95523be17ee": {
          "model_module": "@jupyter-widgets/controls",
          "model_name": "ProgressStyleModel",
          "state": {
            "_view_name": "StyleView",
            "_model_name": "ProgressStyleModel",
            "description_width": "",
            "_view_module": "@jupyter-widgets/base",
            "_model_module_version": "1.5.0",
            "_view_count": null,
            "_view_module_version": "1.2.0",
            "bar_color": null,
            "_model_module": "@jupyter-widgets/controls"
          }
        },
        "947a96d9c91f4bd6b4da7be85e8b984b": {
          "model_module": "@jupyter-widgets/base",
          "model_name": "LayoutModel",
          "state": {
            "_view_name": "LayoutView",
            "grid_template_rows": null,
            "right": null,
            "justify_content": null,
            "_view_module": "@jupyter-widgets/base",
            "overflow": null,
            "_model_module_version": "1.2.0",
            "_view_count": null,
            "flex_flow": null,
            "width": null,
            "min_width": null,
            "border": null,
            "align_items": null,
            "bottom": null,
            "_model_module": "@jupyter-widgets/base",
            "top": null,
            "grid_column": null,
            "overflow_y": null,
            "overflow_x": null,
            "grid_auto_flow": null,
            "grid_area": null,
            "grid_template_columns": null,
            "flex": null,
            "_model_name": "LayoutModel",
            "justify_items": null,
            "grid_row": null,
            "max_height": null,
            "align_content": null,
            "visibility": null,
            "align_self": null,
            "height": null,
            "min_height": null,
            "padding": null,
            "grid_auto_rows": null,
            "grid_gap": null,
            "max_width": null,
            "order": null,
            "_view_module_version": "1.2.0",
            "grid_template_areas": null,
            "object_position": null,
            "object_fit": null,
            "grid_auto_columns": null,
            "margin": null,
            "display": null,
            "left": null
          }
        },
        "9beff2ff2cce4da680eabed516c76371": {
          "model_module": "@jupyter-widgets/controls",
          "model_name": "DescriptionStyleModel",
          "state": {
            "_view_name": "StyleView",
            "_model_name": "DescriptionStyleModel",
            "description_width": "",
            "_view_module": "@jupyter-widgets/base",
            "_model_module_version": "1.5.0",
            "_view_count": null,
            "_view_module_version": "1.2.0",
            "_model_module": "@jupyter-widgets/controls"
          }
        },
        "49ebf97804d14a0492124aa94767772c": {
          "model_module": "@jupyter-widgets/base",
          "model_name": "LayoutModel",
          "state": {
            "_view_name": "LayoutView",
            "grid_template_rows": null,
            "right": null,
            "justify_content": null,
            "_view_module": "@jupyter-widgets/base",
            "overflow": null,
            "_model_module_version": "1.2.0",
            "_view_count": null,
            "flex_flow": null,
            "width": null,
            "min_width": null,
            "border": null,
            "align_items": null,
            "bottom": null,
            "_model_module": "@jupyter-widgets/base",
            "top": null,
            "grid_column": null,
            "overflow_y": null,
            "overflow_x": null,
            "grid_auto_flow": null,
            "grid_area": null,
            "grid_template_columns": null,
            "flex": null,
            "_model_name": "LayoutModel",
            "justify_items": null,
            "grid_row": null,
            "max_height": null,
            "align_content": null,
            "visibility": null,
            "align_self": null,
            "height": null,
            "min_height": null,
            "padding": null,
            "grid_auto_rows": null,
            "grid_gap": null,
            "max_width": null,
            "order": null,
            "_view_module_version": "1.2.0",
            "grid_template_areas": null,
            "object_position": null,
            "object_fit": null,
            "grid_auto_columns": null,
            "margin": null,
            "display": null,
            "left": null
          }
        }
      }
    }
  },
  "cells": [
    {
      "cell_type": "code",
      "metadata": {
        "id": "Q0FUnsM46T7m",
        "colab_type": "code",
        "colab": {}
      },
      "source": [
        "import numpy as np \n",
        "import matplotlib.pyplot as plt\n",
        "from scipy.special import binom\n",
        "from tqdm import tqdm_notebook as tqdm\n",
        "%matplotlib inline"
      ],
      "execution_count": 0,
      "outputs": []
    },
    {
      "cell_type": "code",
      "metadata": {
        "id": "CGMSwvVn6Xq_",
        "colab_type": "code",
        "colab": {}
      },
      "source": [
        "class MarsiliCurty(object):\n",
        "    \n",
        "    def __init__(self, N, z, p, m):\n",
        "        self.N_fund = int(N * z)\n",
        "        self.N_follow = N - self.N_fund\n",
        "        self.N = N\n",
        "        self.p = p\n",
        "        self.m = m\n",
        "        self.opinion = np.empty(N)\n",
        "        self.opinion[:self.N_fund] = np.random.choice([-1,1],\n",
        "                                                      p = [1-p,p],\n",
        "                                                      size = self.N_fund)\n",
        "        self.opinion[self.N_fund:] = np.random.choice([-1,1],\n",
        "                                                   p = [0.5, 0.5],\n",
        "                                                  size = self.N_follow)\n",
        "    \n",
        "    def global_opinion(self):\n",
        "        return np.mean(self.opinion)\n",
        "\n",
        "    \n",
        "    def followers_opinion(self):\n",
        "        return np.mean(self.opinion[self.N_fund:])\n",
        "\n",
        "    def compute_q(self):\n",
        "        return 0.5 * (self.followers_opinion() + 1)\n",
        "    \n",
        "    def compute_pi(self):\n",
        "        return 0.5 * (self.global_opinion() + 1)\n",
        "            \n",
        "    def time_step(self):\n",
        "        random_follower = np.random.randint(low = self.N_fund, high = self.N)\n",
        "        group = np.random.choice(self.N, size = self.m)\n",
        "        group_opinions = self.opinion[group]\n",
        "        avg_group_opinion = np.mean(group_opinions)\n",
        "        self.opinion[random_follower] = np.sign(avg_group_opinion)\n",
        "        \n",
        "        \n",
        "    def iterate(self,T):\n",
        "        q = np.empty(T)\n",
        "        pi = np.empty(T)\n",
        "        for t in range(T):\n",
        "            q[t] = self.compute_q()\n",
        "            pi[t] = self.compute_pi()\n",
        "            self.time_step()\n",
        "        return q, pi "
      ],
      "execution_count": 0,
      "outputs": []
    },
    {
      "cell_type": "code",
      "metadata": {
        "id": "Q5ucy95A7I-l",
        "colab_type": "code",
        "colab": {
          "base_uri": "https://localhost:8080/",
          "height": 54
        },
        "outputId": "d2998e84-968b-4912-9abd-5100ac1e3718"
      },
      "source": [
        "N = 300\n",
        "z = 0.3\n",
        "p = 0.6\n",
        "m = 12\n",
        "\n",
        "MC = MarsiliCurty(N, z, p, m)\n",
        "print(\"Fraction of people who are right:\", MC.compute_pi())\n",
        "print(\"Fraction of followers who are right\", MC.compute_q())"
      ],
      "execution_count": 3,
      "outputs": [
        {
          "output_type": "stream",
          "text": [
            "Fraction of people who are right: 0.5266666666666666\n",
            "Fraction of followers who are right 0.48095238095238096\n"
          ],
          "name": "stdout"
        }
      ]
    },
    {
      "cell_type": "code",
      "metadata": {
        "id": "PzlU-NZI7QJk",
        "colab_type": "code",
        "colab": {
          "base_uri": "https://localhost:8080/",
          "height": 54
        },
        "outputId": "34303d3a-953d-4561-fcaa-83ac6e5fad9a"
      },
      "source": [
        "%time q, pi = MC.iterate(4000)"
      ],
      "execution_count": 4,
      "outputs": [
        {
          "output_type": "stream",
          "text": [
            "CPU times: user 304 ms, sys: 0 ns, total: 304 ms\n",
            "Wall time: 311 ms\n"
          ],
          "name": "stdout"
        }
      ]
    },
    {
      "cell_type": "code",
      "metadata": {
        "id": "B66oySMs7TGU",
        "colab_type": "code",
        "colab": {
          "base_uri": "https://localhost:8080/",
          "height": 501
        },
        "outputId": "cd3c63f7-3f72-4e96-d5d7-725ae37fec99"
      },
      "source": [
        "plt.figure(figsize = (8,8))\n",
        "plt.plot(q, label='$q$')\n",
        "plt.plot(pi, label=r'$\\pi$')\n",
        "plt.legend(fontsize = 15)"
      ],
      "execution_count": 8,
      "outputs": [
        {
          "output_type": "execute_result",
          "data": {
            "text/plain": [
              "<matplotlib.legend.Legend at 0x7f1527f42cc0>"
            ]
          },
          "metadata": {
            "tags": []
          },
          "execution_count": 8
        },
        {
          "output_type": "display_data",
          "data": {
            "image/png": "[encoded data removed]",
            "text/plain": [
              "<Figure size 576x576 with 1 Axes>"
            ]
          },
          "metadata": {
            "tags": []
          }
        }
      ]
    },
    {
      "cell_type": "code",
      "metadata": {
        "id": "nc88rJJO7lIU",
        "colab_type": "code",
        "colab": {}
      },
      "source": [
        "def get_pi(z, m = 10, N = 300, p =0.55):\n",
        "    MC = MarsiliCurty(N, z, p, m)\n",
        "    q, pi = MC.iterate(4000)\n",
        "    return np.mean(pi[:-100])"
      ],
      "execution_count": 0,
      "outputs": []
    },
    {
      "cell_type": "code",
      "metadata": {
        "id": "nWmt-hK6-AGw",
        "colab_type": "code",
        "colab": {}
      },
      "source": [
        "zs = np.linspace(0,1, 100, endpoint = False)"
      ],
      "execution_count": 0,
      "outputs": []
    },
    {
      "cell_type": "code",
      "metadata": {
        "id": "2sZmSy86-CCd",
        "colab_type": "code",
        "colab": {
          "base_uri": "https://localhost:8080/",
          "height": 67,
          "referenced_widgets": [
            "e5aa3022280348f19fb6297d35d7689a",
            "000391b79a0e44768c9d8e5f39d5f760",
            "44c1a5d361674c0387e62e29fd8db36f",
            "bffeb23dcfbb4fc88dcb0434497bb8ad",
            "a7350dd33a5a46f098e5c95523be17ee",
            "947a96d9c91f4bd6b4da7be85e8b984b",
            "9beff2ff2cce4da680eabed516c76371",
            "49ebf97804d14a0492124aa94767772c"
          ]
        },
        "outputId": "5a83c08c-a23a-4448-f362-c612acea801b"
      },
      "source": [
        "pis = [get_pi(z, N = 300) for z in tqdm(zs)]"
      ],
      "execution_count": 11,
      "outputs": [
        {
          "output_type": "display_data",
          "data": {
            "application/vnd.jupyter.widget-view+json": {
              "model_id": "e5aa3022280348f19fb6297d35d7689a",
              "version_minor": 0,
              "version_major": 2
            },
            "text/plain": [
              "HBox(children=(IntProgress(value=0), HTML(value='')))"
            ]
          },
          "metadata": {
            "tags": []
          }
        },
        {
          "output_type": "stream",
          "text": [
            "\n"
          ],
          "name": "stdout"
        }
      ]
    },
    {
      "cell_type": "code",
      "metadata": {
        "id": "jHdsT6zT-ECO",
        "colab_type": "code",
        "colab": {
          "base_uri": "https://localhost:8080/",
          "height": 283
        },
        "outputId": "ed4d339b-d088-453e-bb36-8737e478d947"
      },
      "source": [
        "plt.scatter(zs, pis)"
      ],
      "execution_count": 12,
      "outputs": [
        {
          "output_type": "execute_result",
          "data": {
            "text/plain": [
              "<matplotlib.collections.PathCollection at 0x7f15275e0208>"
            ]
          },
          "metadata": {
            "tags": []
          },
          "execution_count": 12
        },
        {
          "output_type": "display_data",
          "data": {
            "image/png": "[encoded data removed]",
            "text/plain": [
              "<Figure size 432x288 with 1 Axes>"
            ]
          },
          "metadata": {
            "tags": []
          }
        }
      ]
    },
    {
      "cell_type": "code",
      "metadata": {
        "id": "-gcOAjb--3Ay",
        "colab_type": "code",
        "colab": {}
      },
      "source": [
        ""
      ],
      "execution_count": 0,
      "outputs": []
    }
  ]
}