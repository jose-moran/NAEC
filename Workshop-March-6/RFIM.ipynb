{
 "cells": [
  {
   "cell_type": "code",
   "execution_count": null,
   "metadata": {},
   "outputs": [],
   "source": [
    "import numpy as np \n",
    "import matplotlib.pyplot as plt \n",
    "from tqdm import tqdm_notebook as tqdm\n",
    "%matplotlib inline"
   ]
  },
  {
   "cell_type": "markdown",
   "metadata": {},
   "source": [
    "## NAEC Workshop\n",
    "### José Moran, Michael Benzaquen\n",
    "\n",
    "\n",
    "Take a system of $N$, with each agent $i=1\\ldots N$ has a binary choice $S_i=\\pm1$, with the positive choice indicating for example that he wants to buy an asset. We suppose now that the agent wants to maximize an \"utility function\" given by:\n",
    "\n",
    "$$\n",
    "U_i = h_i S_i + F S_i + S_i\\sum_{j(\\neq i)}J_{ij}S_j\n",
    "$$\n",
    "where $h_i$ is an idiosyncratic bias proper to each agent. We suppose that the $h_i$ are random iid. variables with a density $\\rho(h)$. The agent's decision is then naturally given by:\n",
    "\n",
    "\\begin{equation}\\label{eq:decision}\n",
    "    S_i = \\mbox{sign}\\left(h_i + F  + \\sum_{j(\\neq i)}J_{ij}S_j\\right):=\\mbox{sign}(p_i)\n",
    "\\end{equation}\n",
    "where $p_i$ is the \"local polarization field\"."
   ]
  },
  {
   "cell_type": "code",
   "execution_count": null,
   "metadata": {},
   "outputs": [],
   "source": [
    "class RFIM(object):\n",
    "    '''A class for simulating the Random Field Ising Model '''\n",
    "    \n",
    "    def __init__(self, J, F, N, delta):\n",
    "        '''Create an instance of the RFIM with parameters J,F\n",
    "        of size N, with fields h with a random Laplace distribution of parameter delta'''\n",
    "        self.J = J\n",
    "        self.F = F\n",
    "        self.N = N\n",
    "        self.S = np.random.choice([-1,1], size = N)\n",
    "        self.h = np.random.laplace(scale = delta, size = N)\n",
    "        self.delta = delta\n",
    "        \n",
    "        \n",
    "    def m(self):\n",
    "        '''Computes average opinion '''\n",
    "        return np.mean(self.S)\n",
    "                                   \n",
    "    \n",
    "    \n",
    "    def p(self, i):\n",
    "        '''Computes the local opinion polarization for agent i p_i\n",
    "        inputs: agent label i\n",
    "        returns: the field p_i'''\n",
    "        local_m = (self.S.sum() - self.S[i]) / (self.N - 1)\n",
    "        return self.h[i] + self.F + self.J * local_m\n",
    "    \n",
    "    def flip(self,i):\n",
    "        '''Changes S_i -> -S_i according to the dynamic rule\n",
    "        input: agent label i\n",
    "        returns: 0 if the agent didn't change opinion\n",
    "                 1 if the agent changed opinion\n",
    "        '''\n",
    "        should_flip = self.S[i] * np.sign(self.p(i))\n",
    "        if should_flip == -1:\n",
    "            self.S[i] *= -1\n",
    "            return 1\n",
    "        else:\n",
    "            return 0\n",
    "    \n",
    "    \n",
    "    def sweep(self):\n",
    "        '''Goes through all N agents and tries to flip them\n",
    "        input: none\n",
    "        returns: number of agents that changed their mind\n",
    "        '''\n",
    "        s = 0\n",
    "        for i in range(N):\n",
    "            s += self.flip(i)\n",
    "        return s\n",
    "    \n",
    "    def equilibrate(self):\n",
    "        '''Find the equilibrium of the system'''\n",
    "        flips = self.sweep()\n",
    "        while flips > 0:\n",
    "            flips = self.sweep()\n",
    "            \n",
    "            \n"
   ]
  },
  {
   "cell_type": "code",
   "execution_count": null,
   "metadata": {},
   "outputs": [],
   "source": [
    "delta = 1.2\n",
    "N = 500\n",
    "J = 1\n",
    "F = 15"
   ]
  },
  {
   "cell_type": "code",
   "execution_count": null,
   "metadata": {},
   "outputs": [],
   "source": [
    "sim = RFIM(J,F,N, delta = 1.2) #high heterogeneity\n",
    "sim2 = RFIM(J,F,N, delta = 0.1) #low heterogeneity, path F:-5->5\n",
    "sim3 = RFIM(J,F,N, delta=0.1) # low heterogeneity, path F:5-> -5"
   ]
  },
  {
   "cell_type": "code",
   "execution_count": null,
   "metadata": {},
   "outputs": [],
   "source": [
    "Fs = np.linspace(-5,5,100)\n",
    "\n",
    "#values of m for the different paths\n",
    "ms = np.empty(len(Fs))\n",
    "ms2 = np.empty(len(Fs))\n",
    "ms3 = np.empty(len(Fs))\n",
    "for i in range(len(Fs)):\n",
    "    sim.F = Fs[i]\n",
    "    sim2.F = Fs[i]\n",
    "    sim3.F = Fs[::-1][i]\n",
    "    sim.equilibrate()\n",
    "    sim2.equilibrate()\n",
    "    sim3.equilibrate()\n",
    "    ms[i] = sim.m()\n",
    "    ms2[i] = sim2.m()\n",
    "    ms3[i] = sim3.m()"
   ]
  },
  {
   "cell_type": "code",
   "execution_count": null,
   "metadata": {},
   "outputs": [],
   "source": [
    "plt.figure(figsize = (15,10))\n",
    "plt.plot(Fs,ms, label = r'F path $-5\\to 5$ and backward, $\\Delta=1.2$')\n",
    "plt.plot(Fs,ms2, label= r'F path $-5\\to 5$, $\\Delta = 0.1$')\n",
    "plt.plot(Fs[::-1],ms3, label=r'F path $5 \\to -5$, $\\Delta = 0.1$')\n",
    "plt.xlabel(r'$F$', fontsize=18)\n",
    "plt.ylabel(r'$m$', fontsize =18)\n",
    "plt.legend(fontsize = 16)"
   ]
  },
  {
   "cell_type": "code",
   "execution_count": null,
   "metadata": {},
   "outputs": [],
   "source": [
    "n_trials = int(5e3)\n",
    "avalanches = np.empty(n_trials)\n",
    "#shocks to external field\n",
    "shocks = np.random.rand(n_trials)\n",
    "av_sim = RFIM(J,F,N = 1000, delta = 0.1)\n",
    "#prepare the system close to the critical point\n",
    "av_sim.F = -0.6\n",
    "av_sim.S = np.ones(1000)\n",
    "av_sim.equilibrate()\n",
    "S = np.copy(av_sim.S)\n",
    "for i in tqdm(range(n_trials)):\n",
    "    #set the system again close to tipping point\n",
    "    av_sim.F = -0.6\n",
    "    av_sim.S = np.copy(S)\n",
    "    #shock the external field and get the avalanche size\n",
    "    av_sim.F *= (1+0.5*shocks[i])\n",
    "    avalanches[i] = av_sim.sweep()"
   ]
  },
  {
   "cell_type": "code",
   "execution_count": null,
   "metadata": {},
   "outputs": [],
   "source": [
    "plt.figure(figsize = (10,10))\n",
    "plt.hist(avalanches, cumulative = -1, bins = 500, histtype='step', density=True, label='Avalanche sf')\n",
    "ns = np.logspace(0,2.5,20)\n",
    "plt.plot(ns,ns**(-1/2), label=r'Theoretical power law $P_>(s)\\sim s^{-1/2}$')\n",
    "plt.xscale('log')\n",
    "plt.yscale('log')\n",
    "plt.legend(fontsize = 18, loc = 'lower left')\n",
    "plt.xlabel(r'Avalanche size $s$', fontsize = 18)\n",
    "plt.ylabel(r'Survival function $P_>(s)$', fontsize = 18)\n",
    "plt.ylim(2e-2,1.2)"
   ]
  },
  {
   "cell_type": "code",
   "execution_count": null,
   "metadata": {},
   "outputs": [],
   "source": []
  }
 ],
 "metadata": {
  "kernelspec": {
   "display_name": "Python 3",
   "language": "python",
   "name": "python3"
  },
  "language_info": {
   "codemirror_mode": {
    "name": "ipython",
    "version": 3
   },
   "file_extension": ".py",
   "mimetype": "text/x-python",
   "name": "python",
   "nbconvert_exporter": "python",
   "pygments_lexer": "ipython3",
   "version": "3.7.5"
  }
 },
 "nbformat": 4,
 "nbformat_minor": 4
}
